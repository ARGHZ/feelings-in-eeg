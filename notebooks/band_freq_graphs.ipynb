{
 "cells": [
  {
   "cell_type": "code",
   "execution_count": 1,
   "metadata": {
    "collapsed": true
   },
   "outputs": [],
   "source": [
    "%matplotlib inline\n",
    "import config as general_config\n",
    "import json\n",
    "\n",
    "from networkx.readwrite import json_graph\n",
    "from networkx import density\n"
   ]
  },
  {
   "cell_type": "code",
   "execution_count": 2,
   "metadata": {
    "pycharm": {
     "name": "#%%\n"
    }
   },
   "outputs": [
    {
     "name": "stdout",
     "output_type": "stream",
     "text": [
      "8703\n",
      "13047\n",
      "13553\n",
      "830.3\n"
     ]
    }
   ],
   "source": [
    "json_file_path = general_config.DATA_DIR + '/graphs/delta.json'\n",
    "with open(json_file_path) as json_file:\n",
    "    data = json.load(json_file)\n",
    "\n",
    "G = json_graph.node_link_graph(data)\n",
    "print(len([(u, v) for u,v,e in G.edges(data=True) if e['weight'] > 0.25]))\n",
    "print(len([(u, v) for u,v,e in G.edges(data=True) if e['weight'] > 0.1]))\n",
    "print(len([(u, v) for u,v,e in G.edges(data=True) if e['weight'] > 0.09]))\n",
    "print(density(G))"
   ]
  },
  {
   "cell_type": "code",
   "execution_count": 3,
   "metadata": {
    "pycharm": {
     "name": "#%%\n"
    }
   },
   "outputs": [
    {
     "name": "stdout",
     "output_type": "stream",
     "text": [
      "8718\n",
      "13321\n",
      "13884\n"
     ]
    }
   ],
   "source": [
    "json_file_path = general_config.DATA_DIR + '/graphs/theta.json'\n",
    "with open(json_file_path) as json_file:\n",
    "    data = json.load(json_file)\n",
    "\n",
    "G = json_graph.node_link_graph(data)\n",
    "print(len([(u, v) for u,v,e in G.edges(data=True) if e['weight'] > 0.25]))\n",
    "print(len([(u, v) for u,v,e in G.edges(data=True) if e['weight'] > 0.1]))\n",
    "print(len([(u, v) for u,v,e in G.edges(data=True) if e['weight'] > 0.09]))"
   ]
  },
  {
   "cell_type": "code",
   "execution_count": 4,
   "metadata": {
    "pycharm": {
     "name": "#%%\n"
    }
   },
   "outputs": [
    {
     "name": "stdout",
     "output_type": "stream",
     "text": [
      "8808\n",
      "13501\n",
      "14087\n"
     ]
    }
   ],
   "source": [
    "json_file_path = general_config.DATA_DIR + '/graphs/alpha.json'\n",
    "with open(json_file_path) as json_file:\n",
    "    data = json.load(json_file)\n",
    "\n",
    "G = json_graph.node_link_graph(data)\n",
    "print(len([(u, v) for u,v,e in G.edges(data=True) if e['weight'] > 0.25]))\n",
    "print(len([(u, v) for u,v,e in G.edges(data=True) if e['weight'] > 0.1]))\n",
    "print(len([(u, v) for u,v,e in G.edges(data=True) if e['weight'] > 0.09]))"
   ]
  },
  {
   "cell_type": "code",
   "execution_count": 5,
   "metadata": {
    "pycharm": {
     "name": "#%%\n"
    }
   },
   "outputs": [
    {
     "name": "stdout",
     "output_type": "stream",
     "text": [
      "9264\n",
      "15405\n",
      "16137\n"
     ]
    }
   ],
   "source": [
    "json_file_path = general_config.DATA_DIR + '/graphs/beta.json'\n",
    "with open(json_file_path) as json_file:\n",
    "    data = json.load(json_file)\n",
    "\n",
    "G = json_graph.node_link_graph(data)\n",
    "print(len([(u, v) for u,v,e in G.edges(data=True) if e['weight'] > 0.25]))\n",
    "print(len([(u, v) for u,v,e in G.edges(data=True) if e['weight'] > 0.1]))\n",
    "print(len([(u, v) for u,v,e in G.edges(data=True) if e['weight'] > 0.09]))"
   ]
  },
  {
   "cell_type": "code",
   "execution_count": 6,
   "metadata": {
    "pycharm": {
     "name": "#%%\n"
    }
   },
   "outputs": [
    {
     "name": "stdout",
     "output_type": "stream",
     "text": [
      "11174\n",
      "19568\n",
      "20657\n"
     ]
    }
   ],
   "source": [
    "json_file_path = general_config.DATA_DIR + '/graphs/gamma.json'\n",
    "with open(json_file_path) as json_file:\n",
    "    data = json.load(json_file)\n",
    "\n",
    "G = json_graph.node_link_graph(data)\n",
    "print(len([(u, v) for u,v,e in G.edges(data=True) if e['weight'] > 0.25]))\n",
    "print(len([(u, v) for u,v,e in G.edges(data=True) if e['weight'] > 0.1]))\n",
    "print(len([(u, v) for u,v,e in G.edges(data=True) if e['weight'] > 0.09]))"
   ]
  }
 ],
 "metadata": {
  "kernelspec": {
   "display_name": "Python 3",
   "language": "python",
   "name": "python3"
  },
  "language_info": {
   "codemirror_mode": {
    "name": "ipython",
    "version": 3
   },
   "file_extension": ".py",
   "mimetype": "text/x-python",
   "name": "python",
   "nbconvert_exporter": "python",
   "pygments_lexer": "ipython3",
   "version": "3.6.10"
  }
 },
 "nbformat": 4,
 "nbformat_minor": 1
}