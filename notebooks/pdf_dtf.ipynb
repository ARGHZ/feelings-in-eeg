{
 "cells": [
  {
   "cell_type": "code",
   "execution_count": 1,
   "metadata": {
    "collapsed": true
   },
   "outputs": [
    {
     "data": {
      "text/plain": "'Implements Partial Directed Coherence and Direct Transfer Function\\nusing MVAR processes.\\nReference\\n---------\\nLuiz A. Baccala and Koichi Sameshima. Partial directed coherence:\\na new concept in neural structure determination.\\nBiological Cybernetics, 84(6):463:474, 2001.\\n'"
     },
     "execution_count": 1,
     "metadata": {},
     "output_type": "execute_result"
    }
   ],
   "source": [
    "#!/usr/bin/env python\n",
    "# -*- coding: utf-8 -*-\n",
    "\n",
    "\"\"\"Implements Partial Directed Coherence and Direct Transfer Function\n",
    "using MVAR processes.\n",
    "Reference\n",
    "---------\n",
    "Luiz A. Baccala and Koichi Sameshima. Partial directed coherence:\n",
    "a new concept in neural structure determination.\n",
    "Biological Cybernetics, 84(6):463:474, 2001.\n",
    "\"\"\"\n",
    "\n",
    "# Authors: Alexandre Gramfort <alexandre.gramfort@telecom-paristech.fr>\n",
    "#\n",
    "# License: BSD (3-clause)"
   ]
  },
  {
   "cell_type": "code",
   "execution_count": 2,
   "outputs": [],
   "source": [
    "import math\n",
    "import numpy as np\n",
    "from scipy import linalg, fftpack\n",
    "import matplotlib.pyplot as plt\n",
    "%matplotlib inline"
   ],
   "metadata": {
    "collapsed": false,
    "pycharm": {
     "name": "#%%\n"
    }
   }
  },
  {
   "cell_type": "code",
   "execution_count": 3,
   "outputs": [],
   "source": [
    "def mvar_generate(A, n, sigma, burnin=500):\n",
    "    \"\"\"Simulate MVAR process\n",
    "    Parameters\n",
    "    ----------\n",
    "    A : ndarray, shape (p, N, N)\n",
    "        The AR coefficients where N is the number of signals\n",
    "        and p the order of the model.\n",
    "    n : int\n",
    "        The number of time samples.\n",
    "    sigma : array, shape (N,)\n",
    "        The noise for each time series\n",
    "    burnin : int\n",
    "        The length of the burnin period (in samples).\n",
    "    Returns\n",
    "    -------\n",
    "    X : ndarray, shape (N, n)\n",
    "        The N time series of length n\n",
    "    \"\"\"\n",
    "    p, N, N = A.shape\n",
    "    A_2d = np.concatenate(A, axis=1)\n",
    "    Y = np.zeros((n + burnin, N))\n",
    "\n",
    "    sigma = np.diag(sigma)\n",
    "    mu = np.zeros(N)\n",
    "\n",
    "    # itération du processus\n",
    "    for i in range(p, n):\n",
    "        w = np.random.multivariate_normal(mu, sigma)\n",
    "        Y[i] = np.dot(A_2d, Y[i - p:i][::-1, :].ravel()) + w\n",
    "\n",
    "    return Y[burnin:].T"
   ],
   "metadata": {
    "collapsed": false,
    "pycharm": {
     "name": "#%%\n"
    }
   }
  },
  {
   "cell_type": "code",
   "execution_count": 4,
   "outputs": [],
   "source": [
    "def cov(X, p):\n",
    "    \"\"\"vector autocovariance up to order p\n",
    "    Parameters\n",
    "    ----------\n",
    "    X : ndarray, shape (N, n)\n",
    "        The N time series of length n\n",
    "    Returns\n",
    "    -------\n",
    "    R : ndarray, shape (p + 1, N, N)\n",
    "        The autocovariance up to order p\n",
    "    \"\"\"\n",
    "    N, n = X.shape\n",
    "    R = np.zeros((p + 1, N, N))\n",
    "    for k in range(p + 1):\n",
    "        R[k] = (1. / float(n - k)) * np.dot(X[:, :n - k], X[:, k:].T)\n",
    "    return R"
   ],
   "metadata": {
    "collapsed": false,
    "pycharm": {
     "name": "#%%\n"
    }
   }
  },
  {
   "cell_type": "code",
   "execution_count": 5,
   "outputs": [],
   "source": [
    "def mvar_fit(X, p):\n",
    "    \"\"\"Fit MVAR model of order p using Yule Walker\n",
    "    Parameters\n",
    "    ----------\n",
    "    X : ndarray, shape (N, n)\n",
    "        The N time series of length n\n",
    "    n_fft : int\n",
    "        The length of the FFT\n",
    "    Returns\n",
    "    -------\n",
    "    A : ndarray, shape (p, N, N)\n",
    "        The AR coefficients where N is the number of signals\n",
    "        and p the order of the model.\n",
    "    sigma : array, shape (N,)\n",
    "        The noise for each time series\n",
    "    \"\"\"\n",
    "    N, n = X.shape\n",
    "    gamma = cov(X, p)  # gamma(r,i,j) cov between X_i(0) et X_j(r)\n",
    "    G = np.zeros((p * N, p * N))\n",
    "    gamma2 = np.concatenate(gamma, axis=0)\n",
    "    gamma2[:N, :N] /= 2.\n",
    "\n",
    "    for i in range(p):\n",
    "        G[N * i:, N * i:N * (i + 1)] = gamma2[:N * (p - i)]\n",
    "\n",
    "    G = G + G.T  # big block matrix\n",
    "\n",
    "    gamma4 = np.concatenate(gamma[1:], axis=0)\n",
    "\n",
    "    phi = linalg.solve(G, gamma4)  # solve Yule Walker\n",
    "\n",
    "    tmp = np.dot(gamma4[:N * p].T, phi)\n",
    "    sigma = gamma[0] - tmp - tmp.T + np.dot(phi.T, np.dot(G, phi))\n",
    "\n",
    "    phi = np.reshape(phi, (p, N, N))\n",
    "    for k in range(p):\n",
    "        phi[k] = phi[k].T\n",
    "\n",
    "    return phi, sigma"
   ],
   "metadata": {
    "collapsed": false,
    "pycharm": {
     "name": "#%%\n"
    }
   }
  },
  {
   "cell_type": "code",
   "execution_count": 6,
   "outputs": [],
   "source": [
    "def compute_order(X, p_max):\n",
    "    \"\"\"Estimate AR order with BIC\n",
    "    Parameters\n",
    "    ----------\n",
    "    X : ndarray, shape (N, n)\n",
    "        The N time series of length n\n",
    "    p_max : int\n",
    "        The maximum model order to test\n",
    "    Returns\n",
    "    -------\n",
    "    p : int\n",
    "        Estimated order\n",
    "    bic : ndarray, shape (p_max + 1,)\n",
    "        The BIC for the orders from 0 to p_max.\n",
    "    \"\"\"\n",
    "    N, n = X.shape\n",
    "\n",
    "    bic = np.empty(p_max + 1)\n",
    "    bic[0] = np.inf # XXX\n",
    "\n",
    "    Y = X.T\n",
    "\n",
    "    for p in range(1, p_max + 1):\n",
    "        print(p)\n",
    "        A, sigma = mvar_fit(X, p)\n",
    "        A_2d = np.concatenate(A, axis=1)\n",
    "\n",
    "        n_samples = n - p\n",
    "        bic[p] = n_samples * N * math.log(2. * math.pi)\n",
    "        bic[p] += n_samples * np.log(linalg.det(sigma))\n",
    "        bic[p] += p * (N ** 2) * math.log(n_samples)\n",
    "\n",
    "        sigma_inv = linalg.inv(sigma)\n",
    "        S = 0.\n",
    "        for i in range(p, n):\n",
    "            res = Y[i] - np.dot(A_2d, Y[i - p:i][::-1, :].ravel())\n",
    "            S += np.dot(res, sigma_inv.dot(res))\n",
    "\n",
    "        bic[p] += S\n",
    "\n",
    "    p = np.argmin(bic)\n",
    "    return p, bic"
   ],
   "metadata": {
    "collapsed": false,
    "pycharm": {
     "name": "#%%\n"
    }
   }
  },
  {
   "cell_type": "code",
   "execution_count": 7,
   "outputs": [],
   "source": [
    "def spectral_density(A, n_fft=None):\n",
    "    \"\"\"Estimate PSD from AR coefficients\n",
    "    Parameters\n",
    "    ----------\n",
    "    A : ndarray, shape (p, N, N)\n",
    "        The AR coefficients where N is the number of signals\n",
    "        and p the order of the model.\n",
    "    n_fft : int\n",
    "        The length of the FFT\n",
    "    Returns\n",
    "    -------\n",
    "    fA : ndarray, shape (n_fft, N, N)\n",
    "        The estimated spectral density.\n",
    "    \"\"\"\n",
    "    p, N, N = A.shape\n",
    "    if n_fft is None:\n",
    "        n_fft = max(int(2 ** math.ceil(np.log2(p))), 512)\n",
    "    A2 = np.zeros((n_fft, N, N))\n",
    "    A2[1:p + 1, :, :] = A  # start at 1 !\n",
    "    fA = fftpack.fft(A2, axis=0)\n",
    "    freqs = fftpack.fftfreq(n_fft)\n",
    "    I = np.eye(N)\n",
    "\n",
    "    for i in range(n_fft):\n",
    "        fA[i] = linalg.inv(I - fA[i])\n",
    "\n",
    "    return fA, freqs"
   ],
   "metadata": {
    "collapsed": false,
    "pycharm": {
     "name": "#%%\n"
    }
   }
  },
  {
   "cell_type": "code",
   "execution_count": 8,
   "outputs": [],
   "source": [
    "def DTF(A, sigma=None, n_fft=None):\n",
    "    \"\"\"Direct Transfer Function (DTF)\n",
    "    Parameters\n",
    "    ----------\n",
    "    A : ndarray, shape (p, N, N)\n",
    "        The AR coefficients where N is the number of signals\n",
    "        and p the order of the model.\n",
    "    sigma : array, shape (N, )\n",
    "        The noise for each time series\n",
    "    n_fft : int\n",
    "        The length of the FFT\n",
    "    Returns\n",
    "    -------\n",
    "    D : ndarray, shape (n_fft, N, N)\n",
    "        The estimated DTF\n",
    "    \"\"\"\n",
    "    p, N, N = A.shape\n",
    "\n",
    "    if n_fft is None:\n",
    "        n_fft = max(int(2 ** math.ceil(np.log2(p))), 512)\n",
    "\n",
    "    H, freqs = spectral_density(A, n_fft)\n",
    "    D = np.zeros((n_fft, N, N))\n",
    "\n",
    "    if sigma is None:\n",
    "        sigma = np.ones(N)\n",
    "\n",
    "    for i in range(n_fft):\n",
    "        S = H[i]\n",
    "        V = (S * sigma[None, :]).dot(S.T.conj())\n",
    "        V = np.abs(np.diag(V))\n",
    "        D[i] = np.abs(S * np.sqrt(sigma[None, :])) / np.sqrt(V)[:, None]\n",
    "\n",
    "    return D, freqs"
   ],
   "metadata": {
    "collapsed": false,
    "pycharm": {
     "name": "#%%\n"
    }
   }
  },
  {
   "cell_type": "code",
   "execution_count": 9,
   "outputs": [],
   "source": [
    "def PDC(A, sigma=None, n_fft=None):\n",
    "    \"\"\"Partial directed coherence (PDC)\n",
    "    Parameters\n",
    "    ----------\n",
    "    A : ndarray, shape (p, N, N)\n",
    "        The AR coefficients where N is the number of signals\n",
    "        and p the order of the model.\n",
    "    sigma : array, shape (N,)\n",
    "        The noise for each time series.\n",
    "    n_fft : int\n",
    "        The length of the FFT.\n",
    "    Returns\n",
    "    -------\n",
    "    P : ndarray, shape (n_fft, N, N)\n",
    "        The estimated PDC.\n",
    "    \"\"\"\n",
    "    p, N, N = A.shape\n",
    "\n",
    "    if n_fft is None:\n",
    "        n_fft = max(int(2 ** math.ceil(np.log2(p))), 512)\n",
    "\n",
    "    H, freqs = spectral_density(A, n_fft)\n",
    "    P = np.zeros((n_fft, N, N))\n",
    "\n",
    "    if sigma is None:\n",
    "        sigma = np.ones(N)\n",
    "\n",
    "    for i in range(n_fft):\n",
    "        B = H[i]\n",
    "        B = linalg.inv(B)\n",
    "        V = np.abs(np.dot(B.T.conj(), B * (1. / sigma[:, None])))\n",
    "        V = np.diag(V)  # denominator squared\n",
    "        P[i] = np.abs(B * (1. / np.sqrt(sigma))[None, :]) / np.sqrt(V)[None, :]\n",
    "\n",
    "    return P, freqs\n"
   ],
   "metadata": {
    "collapsed": false,
    "pycharm": {
     "name": "#%%\n"
    }
   }
  },
  {
   "cell_type": "code",
   "execution_count": 10,
   "outputs": [],
   "source": [
    "def plot_all(freqs, P, name):\n",
    "    \"\"\"Plot grid of subplots\n",
    "    \"\"\"\n",
    "    m, N, N = P.shape\n",
    "    pos_freqs = freqs[freqs >= 0]\n",
    "\n",
    "    f, axes = plt.subplots(N, N)\n",
    "    for i in range(N):\n",
    "        for j in range(N):\n",
    "            axes[i, j].fill_between(pos_freqs, P[freqs >= 0, i, j], 0)\n",
    "            axes[i, j].set_xlim([0, np.max(pos_freqs)])\n",
    "            axes[i, j].set_ylim([0, 1])\n",
    "    plt.title(name)\n",
    "    plt.tight_layout()"
   ],
   "metadata": {
    "collapsed": false,
    "pycharm": {
     "name": "#%%\n"
    }
   }
  },
  {
   "cell_type": "code",
   "execution_count": 11,
   "outputs": [
    {
     "name": "stdout",
     "output_type": "stream",
     "text": [
      "1\n",
      "2\n",
      "3\n",
      "4\n",
      "5\n",
      "6\n",
      "7\n",
      "8\n",
      "9\n",
      "10\n",
      "11\n",
      "12\n",
      "13\n",
      "14\n",
      "15\n",
      "16\n",
      "17\n",
      "18\n",
      "19\n",
      "20\n"
     ]
    },
    {
     "data": {
      "text/plain": "<Figure size 432x288 with 1 Axes>",
      "image/png": "[encoded data removed]"
     },
     "metadata": {
      "needs_background": "light"
     },
     "output_type": "display_data"
    },
    {
     "data": {
      "text/plain": "<Figure size 432x288 with 25 Axes>",
      "image/png": "[encoded data removed]"
     },
     "metadata": {
      "needs_background": "light"
     },
     "output_type": "display_data"
    }
   ],
   "source": [
    "plt.close('all')\n",
    "\n",
    "# example from the paper\n",
    "A = np.zeros((3, 5, 5))\n",
    "A[0, 0, 0] = 0.95 * math.sqrt(2)\n",
    "A[1, 0, 0] = -0.9025\n",
    "A[1, 1, 0] = 0.5\n",
    "A[2, 2, 0] = -0.4\n",
    "A[1, 3, 0] = -0.5\n",
    "A[0, 3, 3] = 0.25 * math.sqrt(2)\n",
    "A[0, 3, 4] = 0.25 * math.sqrt(2)\n",
    "A[0, 4, 3] = -0.25 * math.sqrt(2)\n",
    "A[0, 4, 4] = 0.25 * math.sqrt(2)\n",
    "\n",
    "# simulate processes\n",
    "n = 10 ** 4\n",
    "# sigma = np.array([0.0001, 1, 1, 1, 1])\n",
    "# sigma = np.array([0.01, 1, 1, 1, 1])\n",
    "sigma = np.array([1., 1., 1., 1., 1.])\n",
    "Y = mvar_generate(A, n, sigma)\n",
    "\n",
    "mu = np.mean(Y, axis=1)\n",
    "X = Y - mu[:, None]\n",
    "\n",
    "# estimate AR order with BIC\n",
    "if 1:\n",
    "    p_max = 20\n",
    "    p, bic = compute_order(X, p_max=p_max)\n",
    "\n",
    "    plt.figure()\n",
    "    plt.plot(np.arange(p_max + 1), bic)\n",
    "    plt.xlabel('order')\n",
    "    plt.ylabel('BIC')\n",
    "    plt.show()\n",
    "else:\n",
    "    p = 3\n",
    "\n",
    "A_est, sigma = mvar_fit(X, p)\n",
    "sigma = np.diag(sigma)  # DTF + PDC support diagonal noise\n",
    "# sigma = None\n",
    "\n",
    "# compute DTF\n",
    "\"\"\"D, freqs = DTF(A_est, sigma)\n",
    "plot_all(freqs, D, 'DTF')\"\"\"\n",
    "\n",
    "# compute PDC\n",
    "P, freqs = PDC(A_est, sigma)\n",
    "plot_all(freqs, P, 'PDC')\n",
    "plt.show()\n"
   ],
   "metadata": {
    "collapsed": false,
    "pycharm": {
     "name": "#%%\n"
    }
   }
  }
 ],
 "metadata": {
  "kernelspec": {
   "display_name": "Python 3",
   "language": "python",
   "name": "python3"
  },
  "language_info": {
   "codemirror_mode": {
    "name": "ipython",
    "version": 2
   },
   "file_extension": ".py",
   "mimetype": "text/x-python",
   "name": "python",
   "nbconvert_exporter": "python",
   "pygments_lexer": "ipython2",
   "version": "2.7.6"
  }
 },
 "nbformat": 4,
 "nbformat_minor": 0
}