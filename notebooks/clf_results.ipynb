{
 "cells": [
  {
   "cell_type": "code",
   "execution_count": 1,
   "metadata": {
    "collapsed": true,
    "pycharm": {
     "name": "#%%\n"
    }
   },
   "outputs": [],
   "source": [
    "%matplotlib inline\n",
    "\n",
    "import sys\n",
    "\n",
    "WORKING_DIR = \"C:/Users/Juan/PycharmProjects/thought-cmd_2\"\n",
    "\n",
    "# sys.path.extend(['C:\\\\Users\\\\Juan\\\\PycharmProjects\\\\thought-cmd_2', WORKING_DIR])\n",
    "\n",
    "import head_it.config as head_it_config\n",
    "import numpy as np\n",
    "import pandas as pd\n",
    "import seaborn as sns"
   ]
  },
  {
   "cell_type": "code",
   "execution_count": 2,
   "outputs": [],
   "source": [
    "file_path, emotions = WORKING_DIR + '/data/binary_classification_metrics_gamma.csv', head_it_config.EMOTIONAL_LABELS\n",
    "data = pd.read_csv(file_path).dropna().query(\"clf in ('randomforest-5', 'svm')\")\n",
    "data.sort_values(by='test_accuracy', ascending=False, inplace=True)"
   ],
   "metadata": {
    "collapsed": false,
    "pycharm": {
     "name": "#%%\n"
    }
   }
  },
  {
   "cell_type": "code",
   "execution_count": 3,
   "outputs": [
    {
     "data": {
      "text/plain": "            emotions             clf  fit_time  score_time  kfolds  \\\n161      happy-anger  randomforest-5  0.807399    0.050290      10   \n189        happy-sad             svm  0.000801    0.002702      10   \n191      happy-grief  randomforest-5  0.668237    0.046208      10   \n149    happy-content             svm  0.000900    0.002200      10   \n174    happy-disgust             svm  0.001201    0.002698      10   \n..               ...             ...       ...         ...     ...   \n469     jealousy-sad             svm  0.000000    0.003125      10   \n119  joy-frustration             svm  0.000800    0.002207      10   \n211       relief-awe  randomforest-5  0.641508    0.042186      10   \n289  compassion-fear             svm  0.001562    0.003125      10   \n91        joy-excite  randomforest-5  0.693453    0.043102      10   \n\n     test_accuracy  test_f1_micro  test_balanced_accuracy  test_f1_weighted  \n161         0.7558         0.7558                  0.7439            0.7631  \n189         0.7371         0.7371                  0.7241            0.7170  \n191         0.7238         0.7238                  0.7191            0.7205  \n149         0.7152         0.7152                  0.6886            0.6761  \n174         0.6951         0.6951                  0.6805            0.7163  \n..             ...            ...                     ...               ...  \n469         0.3773         0.3773                  0.4534            0.3164  \n119         0.3771         0.3771                  0.4910            0.3107  \n211         0.3633         0.3633                  0.4113            0.3441  \n289         0.3574         0.3574                  0.4278            0.2731  \n91          0.3165         0.3165                  0.3329            0.3085  \n\n[210 rows x 9 columns]",
      "text/html": "<div>\n<style scoped>\n    .dataframe tbody tr th:only-of-type {\n        vertical-align: middle;\n    }\n\n    .dataframe tbody tr th {\n        vertical-align: top;\n    }\n\n    .dataframe thead th {\n        text-align: right;\n    }\n</style>\n<table border=\"1\" class=\"dataframe\">\n  <thead>\n    <tr style=\"text-align: right;\">\n      <th></th>\n      <th>emotions</th>\n      <th>clf</th>\n      <th>fit_time</th>\n      <th>score_time</th>\n      <th>kfolds</th>\n      <th>test_accuracy</th>\n      <th>test_f1_micro</th>\n      <th>test_balanced_accuracy</th>\n      <th>test_f1_weighted</th>\n    </tr>\n  </thead>\n  <tbody>\n    <tr>\n      <th>161</th>\n      <td>happy-anger</td>\n      <td>randomforest-5</td>\n      <td>0.807399</td>\n      <td>0.050290</td>\n      <td>10</td>\n      <td>0.7558</td>\n      <td>0.7558</td>\n      <td>0.7439</td>\n      <td>0.7631</td>\n    </tr>\n    <tr>\n      <th>189</th>\n      <td>happy-sad</td>\n      <td>svm</td>\n      <td>0.000801</td>\n      <td>0.002702</td>\n      <td>10</td>\n      <td>0.7371</td>\n      <td>0.7371</td>\n      <td>0.7241</td>\n      <td>0.7170</td>\n    </tr>\n    <tr>\n      <th>191</th>\n      <td>happy-grief</td>\n      <td>randomforest-5</td>\n      <td>0.668237</td>\n      <td>0.046208</td>\n      <td>10</td>\n      <td>0.7238</td>\n      <td>0.7238</td>\n      <td>0.7191</td>\n      <td>0.7205</td>\n    </tr>\n    <tr>\n      <th>149</th>\n      <td>happy-content</td>\n      <td>svm</td>\n      <td>0.000900</td>\n      <td>0.002200</td>\n      <td>10</td>\n      <td>0.7152</td>\n      <td>0.7152</td>\n      <td>0.6886</td>\n      <td>0.6761</td>\n    </tr>\n    <tr>\n      <th>174</th>\n      <td>happy-disgust</td>\n      <td>svm</td>\n      <td>0.001201</td>\n      <td>0.002698</td>\n      <td>10</td>\n      <td>0.6951</td>\n      <td>0.6951</td>\n      <td>0.6805</td>\n      <td>0.7163</td>\n    </tr>\n    <tr>\n      <th>...</th>\n      <td>...</td>\n      <td>...</td>\n      <td>...</td>\n      <td>...</td>\n      <td>...</td>\n      <td>...</td>\n      <td>...</td>\n      <td>...</td>\n      <td>...</td>\n    </tr>\n    <tr>\n      <th>469</th>\n      <td>jealousy-sad</td>\n      <td>svm</td>\n      <td>0.000000</td>\n      <td>0.003125</td>\n      <td>10</td>\n      <td>0.3773</td>\n      <td>0.3773</td>\n      <td>0.4534</td>\n      <td>0.3164</td>\n    </tr>\n    <tr>\n      <th>119</th>\n      <td>joy-frustration</td>\n      <td>svm</td>\n      <td>0.000800</td>\n      <td>0.002207</td>\n      <td>10</td>\n      <td>0.3771</td>\n      <td>0.3771</td>\n      <td>0.4910</td>\n      <td>0.3107</td>\n    </tr>\n    <tr>\n      <th>211</th>\n      <td>relief-awe</td>\n      <td>randomforest-5</td>\n      <td>0.641508</td>\n      <td>0.042186</td>\n      <td>10</td>\n      <td>0.3633</td>\n      <td>0.3633</td>\n      <td>0.4113</td>\n      <td>0.3441</td>\n    </tr>\n    <tr>\n      <th>289</th>\n      <td>compassion-fear</td>\n      <td>svm</td>\n      <td>0.001562</td>\n      <td>0.003125</td>\n      <td>10</td>\n      <td>0.3574</td>\n      <td>0.3574</td>\n      <td>0.4278</td>\n      <td>0.2731</td>\n    </tr>\n    <tr>\n      <th>91</th>\n      <td>joy-excite</td>\n      <td>randomforest-5</td>\n      <td>0.693453</td>\n      <td>0.043102</td>\n      <td>10</td>\n      <td>0.3165</td>\n      <td>0.3165</td>\n      <td>0.3329</td>\n      <td>0.3085</td>\n    </tr>\n  </tbody>\n</table>\n<p>210 rows × 9 columns</p>\n</div>"
     },
     "execution_count": 3,
     "metadata": {},
     "output_type": "execute_result"
    }
   ],
   "source": [
    "data"
   ],
   "metadata": {
    "collapsed": false,
    "pycharm": {
     "name": "#%%\n"
    }
   }
  },
  {
   "cell_type": "code",
   "execution_count": 4,
   "outputs": [
    {
     "data": {
      "text/plain": "(array(['randomforest-5', 'svm'], dtype=object),\n array([105, 105], dtype=int64))"
     },
     "execution_count": 4,
     "metadata": {},
     "output_type": "execute_result"
    }
   ],
   "source": [
    "clf_samples = data['clf'].to_numpy()\n",
    "np.unique(clf_samples, return_counts=True)\n"
   ],
   "metadata": {
    "collapsed": false,
    "pycharm": {
     "name": "#%%\n"
    }
   }
  },
  {
   "cell_type": "code",
   "execution_count": 5,
   "outputs": [],
   "source": [
    "file_path, emotions = WORKING_DIR + '/data/binary_classification_metrics.csv', head_it_config.EMOTIONAL_LABELS\n",
    "data = pd.read_csv(file_path).dropna().query(\"clf in ('randomforest-5', 'svm')\")\n",
    "data.sort_values(by='test_accuracy', ascending=False, inplace=True)"
   ],
   "metadata": {
    "collapsed": false,
    "pycharm": {
     "name": "#%%\n"
    }
   }
  },
  {
   "cell_type": "code",
   "execution_count": 6,
   "outputs": [
    {
     "data": {
      "text/plain": "                 emotions             clf  fit_time  score_time  kfolds  \\\n161           happy-anger  randomforest-5  0.838504    0.047465      10   \n189             happy-sad             svm  0.008599    0.003001      10   \n179     happy-frustration             svm  0.011099    0.003500      10   \n174         happy-disgust             svm  0.014599    0.003901      10   \n126               joy-sad  randomforest-5  0.832229    0.045509      10   \n..                    ...             ...       ...         ...     ...   \n119       joy-frustration             svm  0.009899    0.003001      10   \n271   compassion-jealousy  randomforest-5  0.890790    0.050013      10   \n459  jealousy-frustration             svm  0.008899    0.002801      10   \n354          excite-anger             svm  0.018600    0.004100      10   \n319      content-jealousy             svm  0.008099    0.003800      10   \n\n     test_accuracy  test_f1_micro  test_balanced_accuracy  test_f1_weighted  \n161         0.7184         0.7184                  0.6997            0.7311  \n189         0.7095         0.7095                  0.6980            0.7087  \n179         0.6975         0.6975                  0.6991            0.6878  \n174         0.6949         0.6949                  0.6712            0.7035  \n126         0.6946         0.6946                  0.6695            0.6823  \n..             ...            ...                     ...               ...  \n119         0.4306         0.4306                  0.5210            0.4037  \n271         0.4126         0.4126                  0.4151            0.4176  \n459         0.3849         0.3849                  0.4503            0.2769  \n354         0.3811         0.3811                  0.4465            0.3713  \n319         0.3623         0.3623                  0.4132            0.3324  \n\n[210 rows x 9 columns]",
      "text/html": "<div>\n<style scoped>\n    .dataframe tbody tr th:only-of-type {\n        vertical-align: middle;\n    }\n\n    .dataframe tbody tr th {\n        vertical-align: top;\n    }\n\n    .dataframe thead th {\n        text-align: right;\n    }\n</style>\n<table border=\"1\" class=\"dataframe\">\n  <thead>\n    <tr style=\"text-align: right;\">\n      <th></th>\n      <th>emotions</th>\n      <th>clf</th>\n      <th>fit_time</th>\n      <th>score_time</th>\n      <th>kfolds</th>\n      <th>test_accuracy</th>\n      <th>test_f1_micro</th>\n      <th>test_balanced_accuracy</th>\n      <th>test_f1_weighted</th>\n    </tr>\n  </thead>\n  <tbody>\n    <tr>\n      <th>161</th>\n      <td>happy-anger</td>\n      <td>randomforest-5</td>\n      <td>0.838504</td>\n      <td>0.047465</td>\n      <td>10</td>\n      <td>0.7184</td>\n      <td>0.7184</td>\n      <td>0.6997</td>\n      <td>0.7311</td>\n    </tr>\n    <tr>\n      <th>189</th>\n      <td>happy-sad</td>\n      <td>svm</td>\n      <td>0.008599</td>\n      <td>0.003001</td>\n      <td>10</td>\n      <td>0.7095</td>\n      <td>0.7095</td>\n      <td>0.6980</td>\n      <td>0.7087</td>\n    </tr>\n    <tr>\n      <th>179</th>\n      <td>happy-frustration</td>\n      <td>svm</td>\n      <td>0.011099</td>\n      <td>0.003500</td>\n      <td>10</td>\n      <td>0.6975</td>\n      <td>0.6975</td>\n      <td>0.6991</td>\n      <td>0.6878</td>\n    </tr>\n    <tr>\n      <th>174</th>\n      <td>happy-disgust</td>\n      <td>svm</td>\n      <td>0.014599</td>\n      <td>0.003901</td>\n      <td>10</td>\n      <td>0.6949</td>\n      <td>0.6949</td>\n      <td>0.6712</td>\n      <td>0.7035</td>\n    </tr>\n    <tr>\n      <th>126</th>\n      <td>joy-sad</td>\n      <td>randomforest-5</td>\n      <td>0.832229</td>\n      <td>0.045509</td>\n      <td>10</td>\n      <td>0.6946</td>\n      <td>0.6946</td>\n      <td>0.6695</td>\n      <td>0.6823</td>\n    </tr>\n    <tr>\n      <th>...</th>\n      <td>...</td>\n      <td>...</td>\n      <td>...</td>\n      <td>...</td>\n      <td>...</td>\n      <td>...</td>\n      <td>...</td>\n      <td>...</td>\n      <td>...</td>\n    </tr>\n    <tr>\n      <th>119</th>\n      <td>joy-frustration</td>\n      <td>svm</td>\n      <td>0.009899</td>\n      <td>0.003001</td>\n      <td>10</td>\n      <td>0.4306</td>\n      <td>0.4306</td>\n      <td>0.5210</td>\n      <td>0.4037</td>\n    </tr>\n    <tr>\n      <th>271</th>\n      <td>compassion-jealousy</td>\n      <td>randomforest-5</td>\n      <td>0.890790</td>\n      <td>0.050013</td>\n      <td>10</td>\n      <td>0.4126</td>\n      <td>0.4126</td>\n      <td>0.4151</td>\n      <td>0.4176</td>\n    </tr>\n    <tr>\n      <th>459</th>\n      <td>jealousy-frustration</td>\n      <td>svm</td>\n      <td>0.008899</td>\n      <td>0.002801</td>\n      <td>10</td>\n      <td>0.3849</td>\n      <td>0.3849</td>\n      <td>0.4503</td>\n      <td>0.2769</td>\n    </tr>\n    <tr>\n      <th>354</th>\n      <td>excite-anger</td>\n      <td>svm</td>\n      <td>0.018600</td>\n      <td>0.004100</td>\n      <td>10</td>\n      <td>0.3811</td>\n      <td>0.3811</td>\n      <td>0.4465</td>\n      <td>0.3713</td>\n    </tr>\n    <tr>\n      <th>319</th>\n      <td>content-jealousy</td>\n      <td>svm</td>\n      <td>0.008099</td>\n      <td>0.003800</td>\n      <td>10</td>\n      <td>0.3623</td>\n      <td>0.3623</td>\n      <td>0.4132</td>\n      <td>0.3324</td>\n    </tr>\n  </tbody>\n</table>\n<p>210 rows × 9 columns</p>\n</div>"
     },
     "execution_count": 6,
     "metadata": {},
     "output_type": "execute_result"
    }
   ],
   "source": [
    "data"
   ],
   "metadata": {
    "collapsed": false,
    "pycharm": {
     "name": "#%%\n"
    }
   }
  }
 ],
 "metadata": {
  "kernelspec": {
   "display_name": "Python 3",
   "language": "python",
   "name": "python3"
  },
  "language_info": {
   "codemirror_mode": {
    "name": "ipython",
    "version": 2
   },
   "file_extension": ".py",
   "mimetype": "text/x-python",
   "name": "python",
   "nbconvert_exporter": "python",
   "pygments_lexer": "ipython2",
   "version": "2.7.6"
  }
 },
 "nbformat": 4,
 "nbformat_minor": 0
}