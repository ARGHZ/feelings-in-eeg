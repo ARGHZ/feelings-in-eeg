{
 "cells": [
  {
   "cell_type": "code",
   "execution_count": 1,
   "metadata": {
    "collapsed": true
   },
   "outputs": [],
   "source": [
    "import sys\n",
    "import pandas as pd\n",
    "sys.path.extend(['C:\\\\Users\\\\Juan\\\\PycharmProjects\\\\thought-cmd', 'C:/Users/Juan/PycharmProjects/thought-cmd'])"
   ]
  },
  {
   "cell_type": "code",
   "execution_count": 2,
   "outputs": [],
   "source": [
    "working_dir = sys.path[-1]\n",
    "file_path = working_dir + '/data/all_select_orders.csv'\n",
    "all_results = pd.read_csv(file_path)"
   ],
   "metadata": {
    "collapsed": false,
    "pycharm": {
     "name": "#%%\n"
    }
   }
  },
  {
   "cell_type": "code",
   "execution_count": 3,
   "outputs": [
    {
     "data": {
      "text/plain": "              fpe        hqic         bic         aic\ncount  917.000000  917.000000  917.000000  917.000000\nmean    36.737186   24.140676   17.028353   36.827699\nstd      0.663837    1.130585    1.325457    0.529456\nmin     33.000000   18.000000   11.000000   33.000000\n25%     37.000000   24.000000   17.000000   37.000000\n50%     37.000000   24.000000   17.000000   37.000000\n75%     37.000000   25.000000   18.000000   37.000000\nmax     37.000000   32.000000   19.000000   37.000000",
      "text/html": "<div>\n<style scoped>\n    .dataframe tbody tr th:only-of-type {\n        vertical-align: middle;\n    }\n\n    .dataframe tbody tr th {\n        vertical-align: top;\n    }\n\n    .dataframe thead th {\n        text-align: right;\n    }\n</style>\n<table border=\"1\" class=\"dataframe\">\n  <thead>\n    <tr style=\"text-align: right;\">\n      <th></th>\n      <th>fpe</th>\n      <th>hqic</th>\n      <th>bic</th>\n      <th>aic</th>\n    </tr>\n  </thead>\n  <tbody>\n    <tr>\n      <th>count</th>\n      <td>917.000000</td>\n      <td>917.000000</td>\n      <td>917.000000</td>\n      <td>917.000000</td>\n    </tr>\n    <tr>\n      <th>mean</th>\n      <td>36.737186</td>\n      <td>24.140676</td>\n      <td>17.028353</td>\n      <td>36.827699</td>\n    </tr>\n    <tr>\n      <th>std</th>\n      <td>0.663837</td>\n      <td>1.130585</td>\n      <td>1.325457</td>\n      <td>0.529456</td>\n    </tr>\n    <tr>\n      <th>min</th>\n      <td>33.000000</td>\n      <td>18.000000</td>\n      <td>11.000000</td>\n      <td>33.000000</td>\n    </tr>\n    <tr>\n      <th>25%</th>\n      <td>37.000000</td>\n      <td>24.000000</td>\n      <td>17.000000</td>\n      <td>37.000000</td>\n    </tr>\n    <tr>\n      <th>50%</th>\n      <td>37.000000</td>\n      <td>24.000000</td>\n      <td>17.000000</td>\n      <td>37.000000</td>\n    </tr>\n    <tr>\n      <th>75%</th>\n      <td>37.000000</td>\n      <td>25.000000</td>\n      <td>18.000000</td>\n      <td>37.000000</td>\n    </tr>\n    <tr>\n      <th>max</th>\n      <td>37.000000</td>\n      <td>32.000000</td>\n      <td>19.000000</td>\n      <td>37.000000</td>\n    </tr>\n  </tbody>\n</table>\n</div>"
     },
     "execution_count": 3,
     "metadata": {},
     "output_type": "execute_result"
    }
   ],
   "source": [
    "columns = ['fpe', 'hqic', 'bic', 'aic']\n",
    "filtered = all_results[columns]\n",
    "filtered.describe()"
   ],
   "metadata": {
    "collapsed": false,
    "pycharm": {
     "name": "#%%\n"
    }
   }
  },
  {
   "cell_type": "code",
   "execution_count": 4,
   "outputs": [
    {
     "data": {
      "text/plain": "17    571\n18    289\n12     49\n16      4\n11      2\n19      1\n13      1\nName: bic, dtype: int64"
     },
     "execution_count": 4,
     "metadata": {},
     "output_type": "execute_result"
    }
   ],
   "source": [
    "filtered['bic'].value_counts()"
   ],
   "metadata": {
    "collapsed": false,
    "pycharm": {
     "name": "#%%\n"
    }
   }
  },
  {
   "cell_type": "code",
   "execution_count": 5,
   "outputs": [
    {
     "data": {
      "text/plain": "17    79\n18    43\n12     8\n19     1\nName: bic, dtype: int64"
     },
     "execution_count": 5,
     "metadata": {},
     "output_type": "execute_result"
    }
   ],
   "source": [
    "criterion_epoch = all_results['epoch'] == 1\n",
    "all_results['bic'][criterion_epoch].value_counts()"
   ],
   "metadata": {
    "collapsed": false,
    "pycharm": {
     "name": "#%%\n"
    }
   }
  },
  {
   "cell_type": "code",
   "execution_count": 6,
   "outputs": [
    {
     "data": {
      "text/plain": "17    89\n18    35\n12     6\n16     1\nName: bic, dtype: int64"
     },
     "execution_count": 6,
     "metadata": {},
     "output_type": "execute_result"
    }
   ],
   "source": [
    "criterion_epoch = all_results['epoch'] == 2\n",
    "all_results['bic'][criterion_epoch].value_counts()"
   ],
   "metadata": {
    "collapsed": false,
    "pycharm": {
     "name": "#%%\n"
    }
   }
  },
  {
   "cell_type": "code",
   "execution_count": 7,
   "outputs": [
    {
     "data": {
      "text/plain": "17    85\n18    39\n12     7\nName: bic, dtype: int64"
     },
     "execution_count": 7,
     "metadata": {},
     "output_type": "execute_result"
    }
   ],
   "source": [
    "criterion_epoch = all_results['epoch'] == 3\n",
    "all_results['bic'][criterion_epoch].value_counts()"
   ],
   "metadata": {
    "collapsed": false,
    "pycharm": {
     "name": "#%%\n"
    }
   }
  },
  {
   "cell_type": "code",
   "execution_count": 8,
   "outputs": [
    {
     "data": {
      "text/plain": "17    74\n18    46\n12     9\n16     2\nName: bic, dtype: int64"
     },
     "execution_count": 8,
     "metadata": {},
     "output_type": "execute_result"
    }
   ],
   "source": [
    "criterion_epoch = all_results['epoch'] == 4\n",
    "all_results['bic'][criterion_epoch].value_counts()"
   ],
   "metadata": {
    "collapsed": false,
    "pycharm": {
     "name": "#%%\n"
    }
   }
  },
  {
   "cell_type": "code",
   "execution_count": 9,
   "outputs": [
    {
     "data": {
      "text/plain": "17    74\n18    48\n12     9\nName: bic, dtype: int64"
     },
     "execution_count": 9,
     "metadata": {},
     "output_type": "execute_result"
    }
   ],
   "source": [
    "criterion_epoch = all_results['epoch'] == 5\n",
    "all_results['bic'][criterion_epoch].value_counts()"
   ],
   "metadata": {
    "collapsed": false,
    "pycharm": {
     "name": "#%%\n"
    }
   }
  },
  {
   "cell_type": "code",
   "execution_count": 10,
   "outputs": [
    {
     "data": {
      "text/plain": "17    88\n18    36\n12     5\n11     2\nName: bic, dtype: int64"
     },
     "execution_count": 10,
     "metadata": {},
     "output_type": "execute_result"
    }
   ],
   "source": [
    "criterion_epoch = all_results['epoch'] == 6\n",
    "all_results['bic'][criterion_epoch].value_counts()"
   ],
   "metadata": {
    "collapsed": false,
    "pycharm": {
     "name": "#%%\n"
    }
   }
  },
  {
   "cell_type": "code",
   "execution_count": 11,
   "outputs": [
    {
     "data": {
      "text/plain": "17    82\n18    42\n12     5\n16     1\n13     1\nName: bic, dtype: int64"
     },
     "execution_count": 11,
     "metadata": {},
     "output_type": "execute_result"
    }
   ],
   "source": [
    "criterion_epoch = all_results['epoch'] == 7\n",
    "all_results['bic'][criterion_epoch].value_counts()"
   ],
   "metadata": {
    "collapsed": false,
    "pycharm": {
     "name": "#%%\n"
    }
   }
  }
 ],
 "metadata": {
  "kernelspec": {
   "display_name": "Python 3",
   "language": "python",
   "name": "python3"
  },
  "language_info": {
   "codemirror_mode": {
    "name": "ipython",
    "version": 2
   },
   "file_extension": ".py",
   "mimetype": "text/x-python",
   "name": "python",
   "nbconvert_exporter": "python",
   "pygments_lexer": "ipython2",
   "version": "2.7.6"
  }
 },
 "nbformat": 4,
 "nbformat_minor": 0
}