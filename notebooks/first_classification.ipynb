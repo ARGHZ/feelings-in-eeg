{
 "cells": [
  {
   "cell_type": "code",
   "execution_count": 1,
   "metadata": {
    "collapsed": true
   },
   "outputs": [
    {
     "name": "stderr",
     "output_type": "stream",
     "text": [
      "C:\\Users\\Juan\\.conda\\envs\\mne\\lib\\site-packages\\umap\\spectral.py:4: NumbaDeprecationWarning: \u001B[1mNo direct replacement for 'numba.targets' available. Visit https://gitter.im/numba/numba-dev to request help. Thanks!\u001B[0m\n",
      "  import numba.targets\n"
     ]
    }
   ],
   "source": [
    "%matplotlib inline\n",
    "\n",
    "import sys\n",
    "\n",
    "WORKING_DIR = \"C:/Users/Juan/PycharmProjects/thought-cmd_2\"\n",
    "\n",
    "# sys.path.extend(['C:\\\\Users\\\\Juan\\\\PycharmProjects\\\\thought-cmd_2', WORKING_DIR])\n",
    "\n",
    "from data_sets_helper import *\n",
    "\n",
    "import config as general_config\n",
    "import head_it.config as head_it_config\n",
    "from featuresextractor import get_csv_content\n",
    "from models.classification import binarize_targets, run_classification_experiment"
   ]
  },
  {
   "cell_type": "code",
   "execution_count": 2,
   "outputs": [
    {
     "name": "stdout",
     "output_type": "stream",
     "text": [
      "\n",
      "---------------------> CONSIDERING ALL FREQUENCY BAND FEATURES\n"
     ]
    }
   ],
   "source": [
    "file_path, emotions = WORKING_DIR + '/data/graph_metrics_mayor_igual_que_25_all.csv', head_it_config.EMOTIONAL_LABELS\n",
    "data = get_csv_content(file_path).dropna()\n",
    "print('\\n---------------------> CONSIDERING ALL FREQUENCY BAND FEATURES')\n"
   ],
   "metadata": {
    "collapsed": false,
    "pycharm": {
     "name": "#%%\n"
    }
   }
  },
  {
   "cell_type": "code",
   "execution_count": 3,
   "outputs": [],
   "source": [
    "data = data[head_it_config.CLASSIFICATION_VARS]\n",
    "y, X = np.array([emotions.index(value) for index, value in data[head_it_config.CLASSIFICATION_VARS[0]].items()]), \\\n",
    "       data[head_it_config.CLASSIFICATION_VARS[1:]]\n"
   ],
   "metadata": {
    "collapsed": false,
    "pycharm": {
     "name": "#%%\n"
    }
   }
  },
  {
   "cell_type": "code",
   "execution_count": 4,
   "outputs": [],
   "source": [
    "# binarize targets\n",
    "y = binarize_targets(y, 7)\n",
    "data = X.assign(target=y)"
   ],
   "metadata": {
    "collapsed": false,
    "pycharm": {
     "name": "#%%\n"
    }
   }
  },
  {
   "cell_type": "code",
   "execution_count": 5,
   "outputs": [
    {
     "name": "stdout",
     "output_type": "stream",
     "text": [
      "\n",
      "With 10 kfolds accuracy: 0.5016 | f1_score: 0.5016 | balanced_accuracy: 0.5031 | f1_score_weighted: 0.5053\n",
      "Process execution of dummy model in 0.0010016679763793946 seconds\n",
      "\n",
      "With 10 kfolds accuracy: 0.5502 | f1_score: 0.5502 | balanced_accuracy: 0.5407 | f1_score_weighted: 0.5448\n",
      "Process execution of randomforest-5 model in 3.007992124557495 seconds\n",
      "\n",
      "With 10 kfolds accuracy: 0.5486 | f1_score: 0.5486 | balanced_accuracy: 0.5323 | f1_score_weighted: 0.5236\n",
      "Process execution of svm model in 0.7569192409515381 seconds\n"
     ]
    },
    {
     "data": {
      "text/plain": "[{'clf': 'dummy',\n  'fit_time': 0.0010016679763793946,\n  'score_time': 0.010999393463134766,\n  'kfolds': 10,\n  'test_accuracy': 0.5016,\n  'test_f1_micro': 0.5016,\n  'test_balanced_accuracy': 0.5031,\n  'test_f1_weighted': 0.5053,\n  'test_precision_micro': 0.5016,\n  'test_precision_weighted': 0.5178,\n  'test_recall_micro': 0.5016,\n  'test_recall_weighted': 0.5016},\n {'clf': 'randomforest-5',\n  'fit_time': 3.007992124557495,\n  'score_time': 0.10721733570098876,\n  'kfolds': 10,\n  'test_accuracy': 0.5502,\n  'test_f1_micro': 0.5502,\n  'test_balanced_accuracy': 0.5407,\n  'test_f1_weighted': 0.5448,\n  'test_precision_micro': 0.5502,\n  'test_precision_weighted': 0.5567,\n  'test_recall_micro': 0.5502,\n  'test_recall_weighted': 0.5502},\n {'clf': 'svm',\n  'fit_time': 0.7569192409515381,\n  'score_time': 0.05169024467468262,\n  'kfolds': 10,\n  'test_accuracy': 0.5486,\n  'test_f1_micro': 0.5486,\n  'test_balanced_accuracy': 0.5323,\n  'test_f1_weighted': 0.5236,\n  'test_precision_micro': 0.5486,\n  'test_precision_weighted': 0.5596,\n  'test_recall_micro': 0.5486,\n  'test_recall_weighted': 0.5486}]"
     },
     "execution_count": 5,
     "metadata": {},
     "output_type": "execute_result"
    }
   ],
   "source": [
    "run_classification_experiment(data.to_numpy())"
   ],
   "metadata": {
    "collapsed": false,
    "pycharm": {
     "name": "#%%\n"
    }
   }
  },
  {
   "cell_type": "code",
   "execution_count": 6,
   "outputs": [
    {
     "name": "stdout",
     "output_type": "stream",
     "text": [
      "\n",
      "---------------------> CONSIDERING DELTA FREQUENCY BAND FEATURES\n",
      "\n",
      "With 10 kfolds accuracy: 0.4929 | f1_score: 0.4929 | balanced_accuracy: 0.4971 | f1_score_weighted: 0.4954\n",
      "Process execution of dummy model in 0.00040183067321777346 seconds\n",
      "\n",
      "With 10 kfolds accuracy: 0.5269 | f1_score: 0.5269 | balanced_accuracy: 0.5135 | f1_score_weighted: 0.5093\n",
      "Process execution of randomforest-5 model in 1.1644994735717773 seconds\n",
      "\n",
      "With 10 kfolds accuracy: 0.5376 | f1_score: 0.5376 | balanced_accuracy: 0.5083 | f1_score_weighted: 0.4584\n",
      "Process execution of svm model in 0.02219986915588379 seconds\n",
      "\n",
      "---------------------> CONSIDERING THETA FREQUENCY BAND FEATURES\n",
      "\n",
      "With 10 kfolds accuracy: 0.4912 | f1_score: 0.4912 | balanced_accuracy: 0.4952 | f1_score_weighted: 0.4934\n",
      "Process execution of dummy model in 0.0002985239028930664 seconds\n",
      "\n",
      "With 10 kfolds accuracy: 0.5566 | f1_score: 0.5566 | balanced_accuracy: 0.5456 | f1_score_weighted: 0.5506\n",
      "Process execution of randomforest-5 model in 1.152604842185974 seconds\n",
      "\n",
      "With 10 kfolds accuracy: 0.5449 | f1_score: 0.5449 | balanced_accuracy: 0.5242 | f1_score_weighted: 0.5065\n",
      "Process execution of svm model in 0.022611212730407716 seconds\n",
      "\n",
      "---------------------> CONSIDERING ALPHA FREQUENCY BAND FEATURES\n",
      "\n",
      "With 10 kfolds accuracy: 0.4938 | f1_score: 0.4938 | balanced_accuracy: 0.4987 | f1_score_weighted: 0.496\n",
      "Process execution of dummy model in 0.0001951456069946289 seconds\n",
      "\n",
      "With 10 kfolds accuracy: 0.5548 | f1_score: 0.5548 | balanced_accuracy: 0.5451 | f1_score_weighted: 0.5507\n",
      "Process execution of randomforest-5 model in 1.1158050060272218 seconds\n",
      "\n",
      "With 10 kfolds accuracy: 0.5511 | f1_score: 0.5511 | balanced_accuracy: 0.5386 | f1_score_weighted: 0.5178\n",
      "Process execution of svm model in 0.024393153190612794 seconds\n",
      "\n",
      "---------------------> CONSIDERING BETA FREQUENCY BAND FEATURES\n",
      "\n",
      "With 10 kfolds accuracy: 0.5019 | f1_score: 0.5019 | balanced_accuracy: 0.5068 | f1_score_weighted: 0.5042\n",
      "Process execution of dummy model in 0.00029206275939941406 seconds\n",
      "\n",
      "With 10 kfolds accuracy: 0.6116 | f1_score: 0.6116 | balanced_accuracy: 0.5982 | f1_score_weighted: 0.605\n",
      "Process execution of randomforest-5 model in 1.1644986391067504 seconds\n",
      "\n",
      "With 10 kfolds accuracy: 0.5494 | f1_score: 0.5494 | balanced_accuracy: 0.5429 | f1_score_weighted: 0.5305\n",
      "Process execution of svm model in 0.02311110496520996 seconds\n",
      "\n",
      "---------------------> CONSIDERING GAMMA FREQUENCY BAND FEATURES\n",
      "\n",
      "With 10 kfolds accuracy: 0.4929 | f1_score: 0.4929 | balanced_accuracy: 0.4971 | f1_score_weighted: 0.4954\n",
      "Process execution of dummy model in 0.000297093391418457 seconds\n",
      "\n",
      "With 10 kfolds accuracy: 0.5438 | f1_score: 0.5438 | balanced_accuracy: 0.5297 | f1_score_weighted: 0.5368\n",
      "Process execution of randomforest-5 model in 1.1452007293701172 seconds\n",
      "\n",
      "With 10 kfolds accuracy: 0.5554 | f1_score: 0.5554 | balanced_accuracy: 0.5353 | f1_score_weighted: 0.5179\n",
      "Process execution of svm model in 0.024695968627929686 seconds\n"
     ]
    }
   ],
   "source": [
    "for freq_band in general_config.FREQ_BANDS:\n",
    "    freq_name, freq_range = freq_band[0].lower(), freq_band[1:]\n",
    "    print(\"\\n---------------------> CONSIDERING {} FREQUENCY BAND FEATURES\".format(freq_name.upper()))\n",
    "    data = get_csv_content(file_path).dropna().query('freq_band == \"' + freq_name + '\"')\n",
    "\n",
    "    data = data[head_it_config.CLASSIFICATION_VARS]\n",
    "    y, X = np.array([emotions.index(value) for index, value in data[head_it_config.CLASSIFICATION_VARS[0]].items()]), \\\n",
    "           data[head_it_config.CLASSIFICATION_VARS[1:]]\n",
    "    # binarize targets\n",
    "    y = binarize_targets(y, 7)\n",
    "    data = X.assign(target=y)\n",
    "\n",
    "    run_classification_experiment(data.to_numpy())"
   ],
   "metadata": {
    "collapsed": false,
    "pycharm": {
     "name": "#%%\n"
    }
   }
  }
 ],
 "metadata": {
  "kernelspec": {
   "display_name": "Python 3",
   "language": "python",
   "name": "python3"
  },
  "language_info": {
   "codemirror_mode": {
    "name": "ipython",
    "version": 2
   },
   "file_extension": ".py",
   "mimetype": "text/x-python",
   "name": "python",
   "nbconvert_exporter": "python",
   "pygments_lexer": "ipython2",
   "version": "2.7.6"
  }
 },
 "nbformat": 4,
 "nbformat_minor": 0
}