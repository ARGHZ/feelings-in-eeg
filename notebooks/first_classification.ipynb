{
 "cells": [
  {
   "cell_type": "code",
   "execution_count": 1,
   "metadata": {
    "collapsed": true
   },
   "outputs": [
    {
     "name": "stderr",
     "output_type": "stream",
     "text": [
      "C:\\Users\\Juan\\.conda\\envs\\mne\\lib\\site-packages\\umap\\spectral.py:4: NumbaDeprecationWarning: \u001B[1mNo direct replacement for 'numba.targets' available. Visit https://gitter.im/numba/numba-dev to request help. Thanks!\u001B[0m\n",
      "  import numba.targets\n"
     ]
    }
   ],
   "source": [
    "import pandas as pd\n",
    "%matplotlib inline\n",
    "\n",
    "# import sys\n",
    "\n",
    "CLS_VARS = \"C:/Users/Juan/OneDrive - CINVESTAV/head_it\"\n",
    "\n",
    "# sys.path.extend(['C:\\\\Users\\\\Juan\\\\PycharmProjects\\\\thought-cmd_2', WORKING_DIR])\n",
    "\n",
    "from data_sets_helper import *\n",
    "\n",
    "import config as general_config\n",
    "import head_it.config as head_it_config\n",
    "from featuresextractor import get_csv_content\n",
    "from classification import binarize_targets, run_classification_experiment"
   ]
  },
  {
   "cell_type": "code",
   "execution_count": 2,
   "outputs": [
    {
     "name": "stdout",
     "output_type": "stream",
     "text": [
      "\n",
      "---------------------> CONSIDERING ALL FREQUENCY BAND FEATURES\n"
     ]
    }
   ],
   "source": [
    "file_path, emotions = CLS_VARS + '/graph_metrics_mayor_igual_que_25_all.csv', head_it_config.EMOTIONAL_LABELS\n",
    "data = get_csv_content(file_path).dropna()\n",
    "print('\\n---------------------> CONSIDERING ALL FREQUENCY BAND FEATURES')\n"
   ],
   "metadata": {
    "collapsed": false,
    "pycharm": {
     "name": "#%%\n"
    }
   }
  },
  {
   "cell_type": "code",
   "execution_count": 3,
   "outputs": [],
   "source": [
    "data = data[head_it_config.CLASSIFICATION_VARS]\n",
    "y, X = np.array([emotions.index(value) for index, value in data[head_it_config.CLASSIFICATION_VARS[0]].items()]), \\\n",
    "       data[head_it_config.CLASSIFICATION_VARS[1:]]\n"
   ],
   "metadata": {
    "collapsed": false,
    "pycharm": {
     "name": "#%%\n"
    }
   }
  },
  {
   "cell_type": "code",
   "execution_count": 4,
   "outputs": [],
   "source": [
    "# binarize targets\n",
    "y = binarize_targets(y, 7)\n",
    "data = X.assign(target=y)"
   ],
   "metadata": {
    "collapsed": false,
    "pycharm": {
     "name": "#%%\n"
    }
   }
  },
  {
   "cell_type": "code",
   "execution_count": 5,
   "outputs": [
    {
     "name": "stdout",
     "output_type": "stream",
     "text": [
      "\n",
      "With 10 kfolds accuracy: 0.5016 | f1_score: 0.5016 | balanced_accuracy: 0.5031 | f1_score_weighted: 0.5053\n",
      "Process execution of dummy model in 0.0002991437911987305 seconds\n",
      "\n",
      "With 10 kfolds accuracy: 0.5502 | f1_score: 0.5502 | balanced_accuracy: 0.5407 | f1_score_weighted: 0.5448\n",
      "Process execution of randomforest-5 model in 2.383310914039612 seconds\n",
      "\n",
      "With 10 kfolds accuracy: 0.5486 | f1_score: 0.5486 | balanced_accuracy: 0.5323 | f1_score_weighted: 0.5236\n",
      "Process execution of svm model in 0.6226213693618774 seconds\n"
     ]
    },
    {
     "data": {
      "text/plain": "              clf  fit_time  score_time  kfolds  test_accuracy  test_f1_micro  \\\n0           dummy  0.000299    0.005341      10         0.5016         0.5016   \n1  randomforest-5  2.383311    0.086742      10         0.5502         0.5502   \n2             svm  0.622621    0.045237      10         0.5486         0.5486   \n\n   test_balanced_accuracy  test_f1_weighted  test_precision_micro  \\\n0                  0.5031            0.5053                0.5016   \n1                  0.5407            0.5448                0.5502   \n2                  0.5323            0.5236                0.5486   \n\n   test_precision_weighted  test_recall_micro  test_recall_weighted  \n0                   0.5178             0.5016                0.5016  \n1                   0.5567             0.5502                0.5502  \n2                   0.5596             0.5486                0.5486  ",
      "text/html": "<div>\n<style scoped>\n    .dataframe tbody tr th:only-of-type {\n        vertical-align: middle;\n    }\n\n    .dataframe tbody tr th {\n        vertical-align: top;\n    }\n\n    .dataframe thead th {\n        text-align: right;\n    }\n</style>\n<table border=\"1\" class=\"dataframe\">\n  <thead>\n    <tr style=\"text-align: right;\">\n      <th></th>\n      <th>clf</th>\n      <th>fit_time</th>\n      <th>score_time</th>\n      <th>kfolds</th>\n      <th>test_accuracy</th>\n      <th>test_f1_micro</th>\n      <th>test_balanced_accuracy</th>\n      <th>test_f1_weighted</th>\n      <th>test_precision_micro</th>\n      <th>test_precision_weighted</th>\n      <th>test_recall_micro</th>\n      <th>test_recall_weighted</th>\n    </tr>\n  </thead>\n  <tbody>\n    <tr>\n      <th>0</th>\n      <td>dummy</td>\n      <td>0.000299</td>\n      <td>0.005341</td>\n      <td>10</td>\n      <td>0.5016</td>\n      <td>0.5016</td>\n      <td>0.5031</td>\n      <td>0.5053</td>\n      <td>0.5016</td>\n      <td>0.5178</td>\n      <td>0.5016</td>\n      <td>0.5016</td>\n    </tr>\n    <tr>\n      <th>1</th>\n      <td>randomforest-5</td>\n      <td>2.383311</td>\n      <td>0.086742</td>\n      <td>10</td>\n      <td>0.5502</td>\n      <td>0.5502</td>\n      <td>0.5407</td>\n      <td>0.5448</td>\n      <td>0.5502</td>\n      <td>0.5567</td>\n      <td>0.5502</td>\n      <td>0.5502</td>\n    </tr>\n    <tr>\n      <th>2</th>\n      <td>svm</td>\n      <td>0.622621</td>\n      <td>0.045237</td>\n      <td>10</td>\n      <td>0.5486</td>\n      <td>0.5486</td>\n      <td>0.5323</td>\n      <td>0.5236</td>\n      <td>0.5486</td>\n      <td>0.5596</td>\n      <td>0.5486</td>\n      <td>0.5486</td>\n    </tr>\n  </tbody>\n</table>\n</div>"
     },
     "execution_count": 5,
     "metadata": {},
     "output_type": "execute_result"
    }
   ],
   "source": [
    "pd.DataFrame(run_classification_experiment(data.to_numpy()))"
   ],
   "metadata": {
    "collapsed": false,
    "pycharm": {
     "name": "#%%\n"
    }
   }
  },
  {
   "cell_type": "code",
   "execution_count": 6,
   "outputs": [
    {
     "name": "stdout",
     "output_type": "stream",
     "text": [
      "\n",
      "---------------------> CONSIDERING DELTA FREQUENCY BAND FEATURES\n",
      "\n",
      "With 10 kfolds accuracy: 0.4929 | f1_score: 0.4929 | balanced_accuracy: 0.4971 | f1_score_weighted: 0.4954\n",
      "Process execution of dummy model in 0.00019986629486083983 seconds\n",
      "\n",
      "With 10 kfolds accuracy: 0.5269 | f1_score: 0.5269 | balanced_accuracy: 0.5135 | f1_score_weighted: 0.5093\n",
      "Process execution of randomforest-5 model in 0.9453110933303833 seconds\n",
      "\n",
      "With 10 kfolds accuracy: 0.5376 | f1_score: 0.5376 | balanced_accuracy: 0.5083 | f1_score_weighted: 0.4584\n",
      "Process execution of svm model in 0.018297576904296876 seconds\n",
      "\n",
      "---------------------> CONSIDERING THETA FREQUENCY BAND FEATURES\n",
      "\n",
      "With 10 kfolds accuracy: 0.4912 | f1_score: 0.4912 | balanced_accuracy: 0.4952 | f1_score_weighted: 0.4934\n",
      "Process execution of dummy model in 0.00019998550415039061 seconds\n",
      "\n",
      "With 10 kfolds accuracy: 0.5566 | f1_score: 0.5566 | balanced_accuracy: 0.5456 | f1_score_weighted: 0.5506\n",
      "Process execution of randomforest-5 model in 0.9081159591674804 seconds\n",
      "\n",
      "With 10 kfolds accuracy: 0.5449 | f1_score: 0.5449 | balanced_accuracy: 0.5242 | f1_score_weighted: 0.5065\n",
      "Process execution of svm model in 0.02063767910003662 seconds\n",
      "\n",
      "---------------------> CONSIDERING ALPHA FREQUENCY BAND FEATURES\n",
      "\n",
      "With 10 kfolds accuracy: 0.4938 | f1_score: 0.4938 | balanced_accuracy: 0.4987 | f1_score_weighted: 0.496\n",
      "Process execution of dummy model in 0.00010004043579101563 seconds\n",
      "\n",
      "With 10 kfolds accuracy: 0.5548 | f1_score: 0.5548 | balanced_accuracy: 0.5451 | f1_score_weighted: 0.5507\n",
      "Process execution of randomforest-5 model in 0.8810946941375732 seconds\n",
      "\n",
      "With 10 kfolds accuracy: 0.5511 | f1_score: 0.5511 | balanced_accuracy: 0.5386 | f1_score_weighted: 0.5178\n",
      "Process execution of svm model in 0.020020127296447754 seconds\n",
      "\n",
      "---------------------> CONSIDERING BETA FREQUENCY BAND FEATURES\n",
      "\n",
      "With 10 kfolds accuracy: 0.5019 | f1_score: 0.5019 | balanced_accuracy: 0.5068 | f1_score_weighted: 0.5042\n",
      "Process execution of dummy model in 0.0 seconds\n",
      "\n",
      "With 10 kfolds accuracy: 0.6116 | f1_score: 0.6116 | balanced_accuracy: 0.5982 | f1_score_weighted: 0.605\n",
      "Process execution of randomforest-5 model in 0.9364867210388184 seconds\n",
      "\n",
      "With 10 kfolds accuracy: 0.5494 | f1_score: 0.5494 | balanced_accuracy: 0.5429 | f1_score_weighted: 0.5305\n",
      "Process execution of svm model in 0.01875 seconds\n",
      "\n",
      "---------------------> CONSIDERING GAMMA FREQUENCY BAND FEATURES\n",
      "\n",
      "With 10 kfolds accuracy: 0.4929 | f1_score: 0.4929 | balanced_accuracy: 0.4971 | f1_score_weighted: 0.4954\n",
      "Process execution of dummy model in 0.00019922256469726563 seconds\n",
      "\n",
      "With 10 kfolds accuracy: 0.5438 | f1_score: 0.5438 | balanced_accuracy: 0.5297 | f1_score_weighted: 0.5368\n",
      "Process execution of randomforest-5 model in 0.9310234546661377 seconds\n",
      "\n",
      "With 10 kfolds accuracy: 0.5554 | f1_score: 0.5554 | balanced_accuracy: 0.5353 | f1_score_weighted: 0.5179\n",
      "Process execution of svm model in 0.019040012359619142 seconds\n"
     ]
    }
   ],
   "source": [
    "for freq_band in general_config.FREQ_BANDS:\n",
    "    freq_name, freq_range = freq_band[0].lower(), freq_band[1:]\n",
    "    print(\"\\n---------------------> CONSIDERING {} FREQUENCY BAND FEATURES\".format(freq_name.upper()))\n",
    "    data = get_csv_content(file_path).dropna().query('freq_band == \"' + freq_name + '\"')\n",
    "\n",
    "    data = data[head_it_config.CLASSIFICATION_VARS]\n",
    "    y, X = np.array([emotions.index(value) for index, value in data[head_it_config.CLASSIFICATION_VARS[0]].items()]), \\\n",
    "           data[head_it_config.CLASSIFICATION_VARS[1:]]\n",
    "    # binarize targets\n",
    "    y = binarize_targets(y, 7)\n",
    "    data = X.assign(target=y)\n",
    "\n",
    "    run_classification_experiment(data.to_numpy())"
   ],
   "metadata": {
    "collapsed": false,
    "pycharm": {
     "name": "#%%\n"
    }
   }
  }
 ],
 "metadata": {
  "kernelspec": {
   "display_name": "Python 3",
   "language": "python",
   "name": "python3"
  },
  "language_info": {
   "codemirror_mode": {
    "name": "ipython",
    "version": 2
   },
   "file_extension": ".py",
   "mimetype": "text/x-python",
   "name": "python",
   "nbconvert_exporter": "python",
   "pygments_lexer": "ipython2",
   "version": "2.7.6"
  }
 },
 "nbformat": 4,
 "nbformat_minor": 0
}