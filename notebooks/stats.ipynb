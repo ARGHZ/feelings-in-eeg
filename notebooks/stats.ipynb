{
 "cells": [
  {
   "cell_type": "code",
   "execution_count": 1,
   "metadata": {
    "collapsed": true
   },
   "outputs": [
    {
     "name": "stderr",
     "output_type": "stream",
     "text": [
      "C:\\Users\\Juan\\.conda\\envs\\mne\\lib\\site-packages\\umap\\spectral.py:4: NumbaDeprecationWarning: \u001B[1mNo direct replacement for 'numba.targets' available. Visit https://gitter.im/numba/numba-dev to request help. Thanks!\u001B[0m\n",
      "  import numba.targets\n"
     ]
    }
   ],
   "source": [
    "import seaborn as sns\n",
    "import matplotlib.pyplot as plt\n",
    "import numpy as np\n",
    "from os import listdir\n",
    "from os.path import isfile, join\n",
    "\n",
    "import head_it.config as head_it_config\n",
    "from data_sets_helper import read_mat_file"
   ]
  },
  {
   "cell_type": "code",
   "execution_count": 2,
   "outputs": [
    {
     "name": "stdout",
     "output_type": "stream",
     "text": [
      "========================================================\n",
      "C:/Users/Juan/PycharmProjects/thought-cmd/data/graph_metrics_all.csv\n"
     ]
    }
   ],
   "source": [
    "emotion_files_path = head_it_config.PDCS_DIRS\n",
    "files_path = listdir(emotion_files_path)\n",
    "pdc_significance_all, pdc_significance = np.array([]), []\n",
    "for path in files_path:\n",
    "    raw_path_item = join(emotion_files_path, path)\n",
    "    file_emotion_match = raw_path_item.find('anger_') >= 0\n",
    "    file_subject_match = raw_path_item.find('subj_1_') >= 0\n",
    "\n",
    "    if True and True and isfile(raw_path_item):\n",
    "        # Getting CSV file as numpy array\n",
    "        try:\n",
    "            matlab_vars = read_mat_file(raw_path_item)\n",
    "        except ValueError as e:\n",
    "            print(raw_path_item)\n",
    "            print(e)\n",
    "        else:\n",
    "\n",
    "            img_file_name = '' + path\n",
    "            ith_subj = path.split('_')[1]\n",
    "            pdc_significance = matlab_vars['c']['pdc_th'][0, 0].ravel()\n",
    "            query = pdc_significance > 0\n",
    "            pdc_significance = pdc_significance[query]\n",
    "            pdc_significance_all = np.concatenate((pdc_significance_all, pdc_significance), axis=None)\n",
    "            # sns.displot(data=pdc_significance, kde=True)\n",
    "            # plt.close()\n",
    "            print(img_file_name)"
   ],
   "metadata": {
    "collapsed": false,
    "pycharm": {
     "name": "#%%\n"
    }
   }
  },
  {
   "cell_type": "code",
   "execution_count": 3,
   "outputs": [
    {
     "data": {
      "text/plain": "             try  LTI_degree  LPD_degree  LPI_degree  LTD_degree  LFD_degree  \\\ncount  59.000000   59.000000   59.000000   59.000000   59.000000   59.000000   \nmean    1.983051    1.491525    2.610169    2.254237    2.627119    3.559322   \nstd     1.224626    0.626233    0.643722    0.575153    1.216245    1.329651   \nmin     1.000000    1.000000    1.000000    1.000000    1.000000    2.000000   \n25%     1.000000    1.000000    2.000000    2.000000    2.000000    3.000000   \n50%     2.000000    1.000000    3.000000    2.000000    2.000000    3.000000   \n75%     3.000000    2.000000    3.000000    2.500000    4.000000    4.000000   \nmax     6.000000    4.000000    4.000000    4.000000    6.000000    7.000000   \n\n       LFI_degree  LTI_in_degree  LPD_in_degree  LPI_in_degree  ...  \\\ncount   59.000000      59.000000      59.000000      59.000000  ...   \nmean     3.152542       0.030508       0.193220       0.220339  ...   \nstd      1.063721       0.081482       0.082763       0.096096  ...   \nmin      1.000000       0.000000       0.000000       0.000000  ...   \n25%      3.000000       0.000000       0.200000       0.200000  ...   \n50%      3.000000       0.000000       0.200000       0.200000  ...   \n75%      4.000000       0.000000       0.200000       0.200000  ...   \nmax      6.000000       0.400000       0.400000       0.600000  ...   \n\n       LTD_out_degree  LFD_out_degree  LFI_out_degree  \\\ncount       59.000000       59.000000       59.000000   \nmean         0.244068        0.254237        0.244068   \nstd          0.083607        0.089678        0.083607   \nmin          0.200000        0.200000        0.200000   \n25%          0.200000        0.200000        0.200000   \n50%          0.200000        0.200000        0.200000   \n75%          0.200000        0.400000        0.200000   \nmax          0.400000        0.400000        0.400000   \n\n       LTI_betweenness_centrality  LPD_betweenness_centrality  \\\ncount                   59.000000                   59.000000   \nmean                     0.022034                    0.200847   \nstd                      0.098380                    0.125771   \nmin                      0.000000                    0.000000   \n25%                      0.000000                    0.100000   \n50%                      0.000000                    0.200000   \n75%                      0.000000                    0.300000   \nmax                      0.500000                    0.500000   \n\n       LPI_betweenness_centrality  LTD_betweenness_centrality  \\\ncount                   59.000000                   59.000000   \nmean                     0.153390                    0.105932   \nstd                      0.110588                    0.136247   \nmin                      0.000000                    0.000000   \n25%                      0.050000                    0.000000   \n50%                      0.150000                    0.050000   \n75%                      0.200000                    0.175000   \nmax                      0.500000                    0.500000   \n\n       LFD_betweenness_centrality  LFI_betweenness_centrality  \\\ncount                   59.000000                   59.000000   \nmean                     0.122458                    0.031780   \nstd                      0.119598                    0.099007   \nmin                      0.000000                    0.000000   \n25%                      0.000000                    0.000000   \n50%                      0.150000                    0.000000   \n75%                      0.200000                    0.000000   \nmax                      0.500000                    0.500000   \n\n       global_efficiency  \ncount          59.000000  \nmean            0.626064  \nstd             0.095762  \nmin             0.288889  \n25%             0.580000  \n50%             0.650000  \n75%             0.686111  \nmax             0.744444  \n\n[8 rows x 26 columns]",
      "text/html": "<div>\n<style scoped>\n    .dataframe tbody tr th:only-of-type {\n        vertical-align: middle;\n    }\n\n    .dataframe tbody tr th {\n        vertical-align: top;\n    }\n\n    .dataframe thead th {\n        text-align: right;\n    }\n</style>\n<table border=\"1\" class=\"dataframe\">\n  <thead>\n    <tr style=\"text-align: right;\">\n      <th></th>\n      <th>try</th>\n      <th>LTI_degree</th>\n      <th>LPD_degree</th>\n      <th>LPI_degree</th>\n      <th>LTD_degree</th>\n      <th>LFD_degree</th>\n      <th>LFI_degree</th>\n      <th>LTI_in_degree</th>\n      <th>LPD_in_degree</th>\n      <th>LPI_in_degree</th>\n      <th>...</th>\n      <th>LTD_out_degree</th>\n      <th>LFD_out_degree</th>\n      <th>LFI_out_degree</th>\n      <th>LTI_betweenness_centrality</th>\n      <th>LPD_betweenness_centrality</th>\n      <th>LPI_betweenness_centrality</th>\n      <th>LTD_betweenness_centrality</th>\n      <th>LFD_betweenness_centrality</th>\n      <th>LFI_betweenness_centrality</th>\n      <th>global_efficiency</th>\n    </tr>\n  </thead>\n  <tbody>\n    <tr>\n      <th>count</th>\n      <td>59.000000</td>\n      <td>59.000000</td>\n      <td>59.000000</td>\n      <td>59.000000</td>\n      <td>59.000000</td>\n      <td>59.000000</td>\n      <td>59.000000</td>\n      <td>59.000000</td>\n      <td>59.000000</td>\n      <td>59.000000</td>\n      <td>...</td>\n      <td>59.000000</td>\n      <td>59.000000</td>\n      <td>59.000000</td>\n      <td>59.000000</td>\n      <td>59.000000</td>\n      <td>59.000000</td>\n      <td>59.000000</td>\n      <td>59.000000</td>\n      <td>59.000000</td>\n      <td>59.000000</td>\n    </tr>\n    <tr>\n      <th>mean</th>\n      <td>1.983051</td>\n      <td>1.491525</td>\n      <td>2.610169</td>\n      <td>2.254237</td>\n      <td>2.627119</td>\n      <td>3.559322</td>\n      <td>3.152542</td>\n      <td>0.030508</td>\n      <td>0.193220</td>\n      <td>0.220339</td>\n      <td>...</td>\n      <td>0.244068</td>\n      <td>0.254237</td>\n      <td>0.244068</td>\n      <td>0.022034</td>\n      <td>0.200847</td>\n      <td>0.153390</td>\n      <td>0.105932</td>\n      <td>0.122458</td>\n      <td>0.031780</td>\n      <td>0.626064</td>\n    </tr>\n    <tr>\n      <th>std</th>\n      <td>1.224626</td>\n      <td>0.626233</td>\n      <td>0.643722</td>\n      <td>0.575153</td>\n      <td>1.216245</td>\n      <td>1.329651</td>\n      <td>1.063721</td>\n      <td>0.081482</td>\n      <td>0.082763</td>\n      <td>0.096096</td>\n      <td>...</td>\n      <td>0.083607</td>\n      <td>0.089678</td>\n      <td>0.083607</td>\n      <td>0.098380</td>\n      <td>0.125771</td>\n      <td>0.110588</td>\n      <td>0.136247</td>\n      <td>0.119598</td>\n      <td>0.099007</td>\n      <td>0.095762</td>\n    </tr>\n    <tr>\n      <th>min</th>\n      <td>1.000000</td>\n      <td>1.000000</td>\n      <td>1.000000</td>\n      <td>1.000000</td>\n      <td>1.000000</td>\n      <td>2.000000</td>\n      <td>1.000000</td>\n      <td>0.000000</td>\n      <td>0.000000</td>\n      <td>0.000000</td>\n      <td>...</td>\n      <td>0.200000</td>\n      <td>0.200000</td>\n      <td>0.200000</td>\n      <td>0.000000</td>\n      <td>0.000000</td>\n      <td>0.000000</td>\n      <td>0.000000</td>\n      <td>0.000000</td>\n      <td>0.000000</td>\n      <td>0.288889</td>\n    </tr>\n    <tr>\n      <th>25%</th>\n      <td>1.000000</td>\n      <td>1.000000</td>\n      <td>2.000000</td>\n      <td>2.000000</td>\n      <td>2.000000</td>\n      <td>3.000000</td>\n      <td>3.000000</td>\n      <td>0.000000</td>\n      <td>0.200000</td>\n      <td>0.200000</td>\n      <td>...</td>\n      <td>0.200000</td>\n      <td>0.200000</td>\n      <td>0.200000</td>\n      <td>0.000000</td>\n      <td>0.100000</td>\n      <td>0.050000</td>\n      <td>0.000000</td>\n      <td>0.000000</td>\n      <td>0.000000</td>\n      <td>0.580000</td>\n    </tr>\n    <tr>\n      <th>50%</th>\n      <td>2.000000</td>\n      <td>1.000000</td>\n      <td>3.000000</td>\n      <td>2.000000</td>\n      <td>2.000000</td>\n      <td>3.000000</td>\n      <td>3.000000</td>\n      <td>0.000000</td>\n      <td>0.200000</td>\n      <td>0.200000</td>\n      <td>...</td>\n      <td>0.200000</td>\n      <td>0.200000</td>\n      <td>0.200000</td>\n      <td>0.000000</td>\n      <td>0.200000</td>\n      <td>0.150000</td>\n      <td>0.050000</td>\n      <td>0.150000</td>\n      <td>0.000000</td>\n      <td>0.650000</td>\n    </tr>\n    <tr>\n      <th>75%</th>\n      <td>3.000000</td>\n      <td>2.000000</td>\n      <td>3.000000</td>\n      <td>2.500000</td>\n      <td>4.000000</td>\n      <td>4.000000</td>\n      <td>4.000000</td>\n      <td>0.000000</td>\n      <td>0.200000</td>\n      <td>0.200000</td>\n      <td>...</td>\n      <td>0.200000</td>\n      <td>0.400000</td>\n      <td>0.200000</td>\n      <td>0.000000</td>\n      <td>0.300000</td>\n      <td>0.200000</td>\n      <td>0.175000</td>\n      <td>0.200000</td>\n      <td>0.000000</td>\n      <td>0.686111</td>\n    </tr>\n    <tr>\n      <th>max</th>\n      <td>6.000000</td>\n      <td>4.000000</td>\n      <td>4.000000</td>\n      <td>4.000000</td>\n      <td>6.000000</td>\n      <td>7.000000</td>\n      <td>6.000000</td>\n      <td>0.400000</td>\n      <td>0.400000</td>\n      <td>0.600000</td>\n      <td>...</td>\n      <td>0.400000</td>\n      <td>0.400000</td>\n      <td>0.400000</td>\n      <td>0.500000</td>\n      <td>0.500000</td>\n      <td>0.500000</td>\n      <td>0.500000</td>\n      <td>0.500000</td>\n      <td>0.500000</td>\n      <td>0.744444</td>\n    </tr>\n  </tbody>\n</table>\n<p>8 rows × 26 columns</p>\n</div>"
     },
     "execution_count": 3,
     "metadata": {},
     "output_type": "execute_result"
    }
   ],
   "source": [
    "sns.displot(data=pdc_significance_all)"
   ],
   "metadata": {
    "collapsed": false,
    "pycharm": {
     "name": "#%%\n"
    }
   }
  },
  {
   "cell_type": "code",
   "execution_count": null,
   "outputs": [],
   "source": [
    "n, bins, patches = plt.hist(pdc_significance_all)"
   ],
   "metadata": {
    "collapsed": false,
    "pycharm": {
     "name": "#%%\n"
    }
   }
  }
 ],
 "metadata": {
  "kernelspec": {
   "display_name": "Python 3",
   "language": "python",
   "name": "python3"
  },
  "language_info": {
   "codemirror_mode": {
    "name": "ipython",
    "version": 2
   },
   "file_extension": ".py",
   "mimetype": "text/x-python",
   "name": "python",
   "nbconvert_exporter": "python",
   "pygments_lexer": "ipython2",
   "version": "2.7.6"
  }
 },
 "nbformat": 4,
 "nbformat_minor": 0
}